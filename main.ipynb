{
 "cells": [
  {
   "cell_type": "markdown",
   "metadata": {},
   "source": [
    "## Import libraries"
   ]
  },
  {
   "cell_type": "code",
   "execution_count": 1,
   "metadata": {},
   "outputs": [],
   "source": [
    "%matplotlib inline\n",
    "import os\n",
    "import pickle\n",
    "import numpy as np\n",
    "import pandas as pd\n",
    "import matplotlib.pyplot as plt\n",
    "from time import sleep\n",
    "from PIL import Image, ImageDraw\n",
    "from IPython.core.display import HTML\n",
    "\n",
    "from azure.cognitiveservices.vision.face import FaceClient\n",
    "from msrest.authentication import CognitiveServicesCredentials"
   ]
  },
  {
   "cell_type": "markdown",
   "metadata": {},
   "source": [
    "### Provide valid API credentials"
   ]
  },
  {
   "cell_type": "code",
   "execution_count": 2,
   "metadata": {},
   "outputs": [],
   "source": [
    "faceEndpoint = ''\n",
    "faceKey = ''"
   ]
  },
  {
   "cell_type": "markdown",
   "metadata": {},
   "source": [
    "### Once provided credentials they can be deleted from notebook after running below block.\n",
    "Below block either dumps credentials to pickle file or load them from it."
   ]
  },
  {
   "cell_type": "code",
   "execution_count": 3,
   "metadata": {},
   "outputs": [
    {
     "name": "stdout",
     "output_type": "stream",
     "text": [
      "Credentials loaded from pickle\n"
     ]
    }
   ],
   "source": [
    "if not os.path.isdir(\"pickles\"):\n",
    "     os.mkdir(\"pickles\")\n",
    "           \n",
    "        \n",
    "if os.path.isfile(\"pickles/faceKey.pkl\"):\n",
    "    \n",
    "    with open('pickles/faceEndpoint.pkl', 'rb') as f:\n",
    "        faceEndpoint = pickle.load(f)\n",
    "    with open('pickles/faceKey.pkl', 'rb') as f:\n",
    "        faceKey = pickle.load(f)\n",
    "    print(\"Credentials loaded from pickle\")\n",
    "    \n",
    "else:\n",
    "    \n",
    "    if faceKey is None or faceKey == \"\":\n",
    "        print(\"No faceKey provided! Service currently not available\")\n",
    "    else:\n",
    "        with open('pickles/faceEndpoint.pkl', 'wb') as f:\n",
    "            pickle.dump(faceEndpoint, f)\n",
    "        with open('pickles/faceKey.pkl', 'wb') as f:\n",
    "            pickle.dump(faceKey, f)\n",
    "            \n",
    "        print(\"Credentials written as pickle\")"
   ]
  },
  {
   "cell_type": "markdown",
   "metadata": {},
   "source": [
    "## Authenticate client\n",
    "Using provided `faceEndpoint` and `faceKey` as in following guide: https://docs.microsoft.com/pl-pl/azure/cognitive-services/face/quickstarts/python-sdk#authenticate-the-client"
   ]
  },
  {
   "cell_type": "code",
   "execution_count": 4,
   "metadata": {},
   "outputs": [],
   "source": [
    "face_client = FaceClient(faceEndpoint, CognitiveServicesCredentials(faceKey))"
   ]
  },
  {
   "cell_type": "markdown",
   "metadata": {},
   "source": [
    "# 1. Define needed functions"
   ]
  },
  {
   "cell_type": "markdown",
   "metadata": {},
   "source": [
    "### Function to <u>only display</u> detected faces on image they come from"
   ]
  },
  {
   "cell_type": "code",
   "execution_count": 5,
   "metadata": {},
   "outputs": [],
   "source": [
    "def mark_faces(img_, result):\n",
    "    img = img_.copy()\n",
    "    # Add rectangles for each face found\n",
    "    color=\"blue\"\n",
    "    if result is not None:\n",
    "        draw = ImageDraw.Draw(img) \n",
    "        for currFace in result:\n",
    "            faceRectangle = currFace.face_rectangle\n",
    "            left = faceRectangle.left\n",
    "            top = faceRectangle.top\n",
    "            width = faceRectangle.width\n",
    "            height = faceRectangle.height\n",
    "            draw.line([(left,top),(left+width,top)],fill=color, width=5)\n",
    "            draw.line([(left+width,top),(left+width,top+height)],fill=color , width=5)\n",
    "            draw.line([(left+width,top+height),(left, top+height)],fill=color , width=5)\n",
    "            draw.line([(left,top+height),(left, top)],fill=color , width=5)\n",
    "\n",
    "    # show the image\n",
    "    plt.figure(figsize=(6,6))\n",
    "    plt.imshow(img)"
   ]
  },
  {
   "cell_type": "markdown",
   "metadata": {},
   "source": [
    "### API function to <u>return</u> detected faces in <u>row format</u>, from an image provided using its <u>url</u>"
   ]
  },
  {
   "cell_type": "code",
   "execution_count": 6,
   "metadata": {},
   "outputs": [],
   "source": [
    "def detect_faces_url(img_url):\n",
    "    \n",
    "    # Detect faces\n",
    "    result = face_client.face.detect_with_url(img_url)\n",
    "    \n",
    "    # Download the image\n",
    "    response = requests.get(img_url)\n",
    "    img = Image.open(BytesIO(response.content))\n",
    "    \n",
    "    # Draw rectangle around found faces\n",
    "    #mark_faces(img, result)\n",
    "    \n",
    "    return {\"result\" : result, \"img\" : img}"
   ]
  },
  {
   "cell_type": "markdown",
   "metadata": {},
   "source": [
    "### API function to <u>return</u> detected faces in <u>row format</u>, from an image <u>stored locally</u>"
   ]
  },
  {
   "cell_type": "code",
   "execution_count": 7,
   "metadata": {},
   "outputs": [],
   "source": [
    "def detect_faces_local(img_source):\n",
    "    \n",
    "    # Read image\n",
    "    img = Image.open(img_source)\n",
    "         \n",
    "    # Detect faces\n",
    "    result = face_client.face.detect_with_stream(open(img_source, 'r+b'))\n",
    "    \n",
    "    # Draw rectangle around found faces\n",
    "    #mark_faces(img, result)\n",
    "    \n",
    "    return {\"result\" : result, \"img\" : img}"
   ]
  },
  {
   "cell_type": "markdown",
   "metadata": {},
   "source": [
    "### Function to crop faces from chosen images\n",
    "Returns firstly list of face-images in PILLOW format and secondly list of faces ID (ID's are stored on Microsoft Service for 24 hours and are later used to compare faces)."
   ]
  },
  {
   "cell_type": "code",
   "execution_count": 8,
   "metadata": {},
   "outputs": [],
   "source": [
    "def crop_faces(list_):\n",
    "\n",
    "    face_image_list = []\n",
    "    face_id_list = []\n",
    "    \n",
    "    for result in list_:\n",
    "        for face in result['result']:\n",
    "\n",
    "            face_id_list.append(face.face_id)\n",
    "            \n",
    "            rectangle = face.face_rectangle\n",
    "            left = rectangle.left\n",
    "            top = rectangle.top\n",
    "            right = rectangle.left + rectangle.width\n",
    "            bottom = rectangle.top + rectangle.height\n",
    "\n",
    "            face_image_list.append(result['img'].crop((left, top, right, bottom)).resize((100,100)))\n",
    "\n",
    "    # Display cropped faces horizontally \n",
    "    fig = plt.figure()#figsize=(1,1))\n",
    "    for i in range(len(face_image_list)):\n",
    "        fig.add_subplot(1, len(face_image_list), i+1)\n",
    "        plt.imshow(face_image_list[i])\n",
    "        plt.axis('off')\n",
    "    plt.show()\n",
    "        \n",
    "    # Return 2 lists\n",
    "    return {\"image_list\" : face_image_list, \"id_list\" : face_id_list}"
   ]
  },
  {
   "cell_type": "markdown",
   "metadata": {},
   "source": [
    "### Function to create a correlation matrix between images\n",
    "A single element tells the `confidence level` for images from corresponding row and column, if they belong to the same person.\n",
    "\n",
    "**This step is resourse consuming!**"
   ]
  },
  {
   "cell_type": "code",
   "execution_count": 9,
   "metadata": {},
   "outputs": [],
   "source": [
    "def calculate_matrix(faces):\n",
    "    \n",
    "    corr_ = np.zeros((len(faces), len(faces)))\n",
    "\n",
    "    for i in range(len(faces)):\n",
    "        for j in range(len(faces)):\n",
    "            corr_[i][j] = face_client.face.verify_face_to_face(faces[i], faces[j]).confidence\n",
    "            #sleep(1)\"\n",
    "    return corr_"
   ]
  },
  {
   "cell_type": "markdown",
   "metadata": {},
   "source": [
    "### Function to return correlation matrix in html format"
   ]
  },
  {
   "cell_type": "code",
   "execution_count": 10,
   "metadata": {},
   "outputs": [],
   "source": [
    "# Help function to convert from links to html tags\n",
    "def path_to_image_html(path):\n",
    "    return '<img src=\"'+ path + '\" width=\"60\" >'\n",
    "\n",
    "\n",
    "def display_matrix(corr, cropped):\n",
    "    \n",
    "    corr2 = pd.DataFrame(corr.copy())\n",
    "    \n",
    "    if not os.path.isdir(\"cropped\"):\n",
    "        os.mkdir(\"cropped\")\n",
    "\n",
    "    # Save cropped faces locally as images\n",
    "    links_list = []\n",
    "    for image, id_ in zip(cropped['image_list'], cropped['id_list']): \n",
    "        link = \"cropped/{}.jpg\".format(id_)\n",
    "        image.save(link, \"JPEG\")\n",
    "        links_list.append(path_to_image_html(link))\n",
    "\n",
    "    \n",
    "    # Put images with html tags as indexes and columns\n",
    "    corr2.index = links_list\n",
    "    corr2.columns = links_list\n",
    "\n",
    "    # Display matrix as html-formatted pandas DataFrame\n",
    "    pd.set_option('display.max_colwidth', -1)\n",
    "    return HTML(corr2.to_html(escape=False))"
   ]
  },
  {
   "cell_type": "markdown",
   "metadata": {},
   "source": [
    "# Final function that combines everything\n",
    "\n",
    "Extract faces from all images in a specified directory and return their correlation matrix in readible format"
   ]
  },
  {
   "cell_type": "code",
   "execution_count": 11,
   "metadata": {},
   "outputs": [],
   "source": [
    "def process_directory(directory):\n",
    "\n",
    "    print(\"Extracting faces...\")\n",
    "    # Proccess every single image in provided folder\n",
    "    results = []\n",
    "    for file in os.listdir(directory):\n",
    "        results.append(detect_faces_local(directory + \"/\" + file))\n",
    "    \n",
    "    # Cropp all detected faces\n",
    "    cropped = crop_faces(results)\n",
    "    \n",
    "    print(\"Calculating matrix...\")\n",
    "    corr = calculate_matrix(cropped['id_list'])\n",
    "    \n",
    "    print(\"Matrix ready to display!\")\n",
    "    return display_matrix(corr, cropped)"
   ]
  },
  {
   "cell_type": "markdown",
   "metadata": {},
   "source": [
    "# 2. Process images"
   ]
  },
  {
   "cell_type": "code",
   "execution_count": 19,
   "metadata": {},
   "outputs": [
    {
     "name": "stdout",
     "output_type": "stream",
     "text": [
      "Extracting faces...\n"
     ]
    },
    {
     "data": {
      "image/png": "[encoded data removed]",
      "text/plain": [
       "<Figure size 432x288 with 8 Axes>"
      ]
     },
     "metadata": {
      "needs_background": "light"
     },
     "output_type": "display_data"
    },
    {
     "name": "stdout",
     "output_type": "stream",
     "text": [
      "Calculating matrix...\n",
      "Matrix ready to display!\n"
     ]
    },
    {
     "data": {
      "text/html": [
       "<table border=\"1\" class=\"dataframe\">\n",
       "  <thead>\n",
       "    <tr style=\"text-align: right;\">\n",
       "      <th></th>\n",
       "      <th><img src=\"cropped/70e38628-7b71-4cae-b61c-00bd9b504d54.jpg\" width=\"60\" ></th>\n",
       "      <th><img src=\"cropped/31324904-7a1f-4453-a8b0-d52a73a3d853.jpg\" width=\"60\" ></th>\n",
       "      <th><img src=\"cropped/3843045a-885f-4734-ab24-17320586726b.jpg\" width=\"60\" ></th>\n",
       "      <th><img src=\"cropped/3b4aa743-f2a8-47a6-b25a-245f4040927a.jpg\" width=\"60\" ></th>\n",
       "      <th><img src=\"cropped/a9defd7a-c1b3-46ad-876f-107916d082a8.jpg\" width=\"60\" ></th>\n",
       "      <th><img src=\"cropped/cb3a06fb-4a1e-41d7-8704-94b048d2127d.jpg\" width=\"60\" ></th>\n",
       "      <th><img src=\"cropped/e995f777-958c-4e96-bf69-19a9a2b2417d.jpg\" width=\"60\" ></th>\n",
       "      <th><img src=\"cropped/0f294104-d8b1-4f4b-b684-862ef4db91f2.jpg\" width=\"60\" ></th>\n",
       "    </tr>\n",
       "  </thead>\n",
       "  <tbody>\n",
       "    <tr>\n",
       "      <th><img src=\"cropped/70e38628-7b71-4cae-b61c-00bd9b504d54.jpg\" width=\"60\" ></th>\n",
       "      <td>1.00000</td>\n",
       "      <td>0.14063</td>\n",
       "      <td>0.08965</td>\n",
       "      <td>0.13866</td>\n",
       "      <td>0.19264</td>\n",
       "      <td>0.21365</td>\n",
       "      <td>0.18313</td>\n",
       "      <td>0.09955</td>\n",
       "    </tr>\n",
       "    <tr>\n",
       "      <th><img src=\"cropped/31324904-7a1f-4453-a8b0-d52a73a3d853.jpg\" width=\"60\" ></th>\n",
       "      <td>0.14063</td>\n",
       "      <td>1.00000</td>\n",
       "      <td>0.13801</td>\n",
       "      <td>0.16290</td>\n",
       "      <td>0.10303</td>\n",
       "      <td>0.48605</td>\n",
       "      <td>0.09157</td>\n",
       "      <td>0.09624</td>\n",
       "    </tr>\n",
       "    <tr>\n",
       "      <th><img src=\"cropped/3843045a-885f-4734-ab24-17320586726b.jpg\" width=\"60\" ></th>\n",
       "      <td>0.08965</td>\n",
       "      <td>0.13801</td>\n",
       "      <td>1.00000</td>\n",
       "      <td>0.25871</td>\n",
       "      <td>0.20915</td>\n",
       "      <td>0.09193</td>\n",
       "      <td>0.09348</td>\n",
       "      <td>0.11766</td>\n",
       "    </tr>\n",
       "    <tr>\n",
       "      <th><img src=\"cropped/3b4aa743-f2a8-47a6-b25a-245f4040927a.jpg\" width=\"60\" ></th>\n",
       "      <td>0.13866</td>\n",
       "      <td>0.16290</td>\n",
       "      <td>0.25871</td>\n",
       "      <td>1.00000</td>\n",
       "      <td>0.09375</td>\n",
       "      <td>0.10110</td>\n",
       "      <td>0.09031</td>\n",
       "      <td>0.09651</td>\n",
       "    </tr>\n",
       "    <tr>\n",
       "      <th><img src=\"cropped/a9defd7a-c1b3-46ad-876f-107916d082a8.jpg\" width=\"60\" ></th>\n",
       "      <td>0.19264</td>\n",
       "      <td>0.10303</td>\n",
       "      <td>0.20915</td>\n",
       "      <td>0.09375</td>\n",
       "      <td>1.00000</td>\n",
       "      <td>0.13309</td>\n",
       "      <td>0.37305</td>\n",
       "      <td>0.32726</td>\n",
       "    </tr>\n",
       "    <tr>\n",
       "      <th><img src=\"cropped/cb3a06fb-4a1e-41d7-8704-94b048d2127d.jpg\" width=\"60\" ></th>\n",
       "      <td>0.21365</td>\n",
       "      <td>0.48605</td>\n",
       "      <td>0.09193</td>\n",
       "      <td>0.10110</td>\n",
       "      <td>0.13309</td>\n",
       "      <td>1.00000</td>\n",
       "      <td>0.15306</td>\n",
       "      <td>0.09724</td>\n",
       "    </tr>\n",
       "    <tr>\n",
       "      <th><img src=\"cropped/e995f777-958c-4e96-bf69-19a9a2b2417d.jpg\" width=\"60\" ></th>\n",
       "      <td>0.18313</td>\n",
       "      <td>0.09157</td>\n",
       "      <td>0.09348</td>\n",
       "      <td>0.09031</td>\n",
       "      <td>0.37305</td>\n",
       "      <td>0.15306</td>\n",
       "      <td>1.00000</td>\n",
       "      <td>0.22054</td>\n",
       "    </tr>\n",
       "    <tr>\n",
       "      <th><img src=\"cropped/0f294104-d8b1-4f4b-b684-862ef4db91f2.jpg\" width=\"60\" ></th>\n",
       "      <td>0.09955</td>\n",
       "      <td>0.09624</td>\n",
       "      <td>0.11766</td>\n",
       "      <td>0.09651</td>\n",
       "      <td>0.32726</td>\n",
       "      <td>0.09724</td>\n",
       "      <td>0.22054</td>\n",
       "      <td>1.00000</td>\n",
       "    </tr>\n",
       "  </tbody>\n",
       "</table>"
      ],
      "text/plain": [
       "<IPython.core.display.HTML object>"
      ]
     },
     "execution_count": 19,
     "metadata": {},
     "output_type": "execute_result"
    }
   ],
   "source": [
    "matrix_1 = process_directory('images_1')\n",
    "matrix_1"
   ]
  },
  {
   "cell_type": "code",
   "execution_count": 20,
   "metadata": {},
   "outputs": [
    {
     "name": "stdout",
     "output_type": "stream",
     "text": [
      "Extracting faces...\n"
     ]
    },
    {
     "data": {
      "image/png": "[encoded data removed]",
      "text/plain": [
       "<Figure size 432x288 with 6 Axes>"
      ]
     },
     "metadata": {
      "needs_background": "light"
     },
     "output_type": "display_data"
    },
    {
     "name": "stdout",
     "output_type": "stream",
     "text": [
      "Calculating matrix...\n",
      "Matrix ready to display!\n"
     ]
    },
    {
     "data": {
      "text/html": [
       "<table border=\"1\" class=\"dataframe\">\n",
       "  <thead>\n",
       "    <tr style=\"text-align: right;\">\n",
       "      <th></th>\n",
       "      <th><img src=\"cropped/e74cde6a-a02e-4a74-8d79-13effa76841a.jpg\" width=\"60\" ></th>\n",
       "      <th><img src=\"cropped/286556c5-8584-4a8d-af8f-f20f783edf2b.jpg\" width=\"60\" ></th>\n",
       "      <th><img src=\"cropped/34bb30cb-441a-4f8e-accb-d09af1223458.jpg\" width=\"60\" ></th>\n",
       "      <th><img src=\"cropped/86a75664-b7c3-494c-be55-0fca7dfcdd4c.jpg\" width=\"60\" ></th>\n",
       "      <th><img src=\"cropped/15e4b151-a8b3-4647-b5e6-73c974000162.jpg\" width=\"60\" ></th>\n",
       "      <th><img src=\"cropped/07ceeb6a-33cf-427d-840d-d06d7b2fc885.jpg\" width=\"60\" ></th>\n",
       "    </tr>\n",
       "  </thead>\n",
       "  <tbody>\n",
       "    <tr>\n",
       "      <th><img src=\"cropped/e74cde6a-a02e-4a74-8d79-13effa76841a.jpg\" width=\"60\" ></th>\n",
       "      <td>1.00000</td>\n",
       "      <td>0.13569</td>\n",
       "      <td>0.47703</td>\n",
       "      <td>0.16923</td>\n",
       "      <td>0.33544</td>\n",
       "      <td>0.22341</td>\n",
       "    </tr>\n",
       "    <tr>\n",
       "      <th><img src=\"cropped/286556c5-8584-4a8d-af8f-f20f783edf2b.jpg\" width=\"60\" ></th>\n",
       "      <td>0.13569</td>\n",
       "      <td>1.00000</td>\n",
       "      <td>0.21783</td>\n",
       "      <td>0.42280</td>\n",
       "      <td>0.11046</td>\n",
       "      <td>0.13615</td>\n",
       "    </tr>\n",
       "    <tr>\n",
       "      <th><img src=\"cropped/34bb30cb-441a-4f8e-accb-d09af1223458.jpg\" width=\"60\" ></th>\n",
       "      <td>0.47703</td>\n",
       "      <td>0.21783</td>\n",
       "      <td>1.00000</td>\n",
       "      <td>0.28296</td>\n",
       "      <td>0.32898</td>\n",
       "      <td>0.28596</td>\n",
       "    </tr>\n",
       "    <tr>\n",
       "      <th><img src=\"cropped/86a75664-b7c3-494c-be55-0fca7dfcdd4c.jpg\" width=\"60\" ></th>\n",
       "      <td>0.16923</td>\n",
       "      <td>0.42280</td>\n",
       "      <td>0.28296</td>\n",
       "      <td>1.00000</td>\n",
       "      <td>0.27686</td>\n",
       "      <td>0.17526</td>\n",
       "    </tr>\n",
       "    <tr>\n",
       "      <th><img src=\"cropped/15e4b151-a8b3-4647-b5e6-73c974000162.jpg\" width=\"60\" ></th>\n",
       "      <td>0.33544</td>\n",
       "      <td>0.11046</td>\n",
       "      <td>0.32898</td>\n",
       "      <td>0.27686</td>\n",
       "      <td>1.00000</td>\n",
       "      <td>0.51990</td>\n",
       "    </tr>\n",
       "    <tr>\n",
       "      <th><img src=\"cropped/07ceeb6a-33cf-427d-840d-d06d7b2fc885.jpg\" width=\"60\" ></th>\n",
       "      <td>0.22341</td>\n",
       "      <td>0.13615</td>\n",
       "      <td>0.28596</td>\n",
       "      <td>0.17526</td>\n",
       "      <td>0.51990</td>\n",
       "      <td>1.00000</td>\n",
       "    </tr>\n",
       "  </tbody>\n",
       "</table>"
      ],
      "text/plain": [
       "<IPython.core.display.HTML object>"
      ]
     },
     "execution_count": 20,
     "metadata": {},
     "output_type": "execute_result"
    }
   ],
   "source": [
    "matrix_2 = process_directory('images_2')\n",
    "matrix_2"
   ]
  },
  {
   "cell_type": "code",
   "execution_count": null,
   "metadata": {},
   "outputs": [],
   "source": []
  }
 ],
 "metadata": {
  "kernelspec": {
   "display_name": "Python 3",
   "language": "python",
   "name": "python3"
  },
  "language_info": {
   "codemirror_mode": {
    "name": "ipython",
    "version": 3
   },
   "file_extension": ".py",
   "mimetype": "text/x-python",
   "name": "python",
   "nbconvert_exporter": "python",
   "pygments_lexer": "ipython3",
   "version": "3.6.9"
  }
 },
 "nbformat": 4,
 "nbformat_minor": 2
}
