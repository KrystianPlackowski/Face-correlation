{
 "cells": [
  {
   "cell_type": "markdown",
   "metadata": {},
   "source": [
    "## Import libraries"
   ]
  },
  {
   "cell_type": "code",
   "execution_count": 1,
   "metadata": {},
   "outputs": [],
   "source": [
    "%matplotlib inline\n",
    "import os\n",
    "import pickle\n",
    "import numpy as np\n",
    "import pandas as pd\n",
    "import matplotlib.pyplot as plt\n",
    "from time import sleep\n",
    "from PIL import Image, ImageDraw\n",
    "from IPython.core.display import HTML\n",
    "\n",
    "from azure.cognitiveservices.vision.face import FaceClient\n",
    "from msrest.authentication import CognitiveServicesCredentials"
   ]
  },
  {
   "cell_type": "markdown",
   "metadata": {},
   "source": [
    "## This notebook uses Face API Service API provided by Microsoft\n",
    "You first need to own Azure subscription and then follow bellow described steps. <font color='red'>*Below text fragment is mostly copied from EDX course \"Introduction to Artificial Intelligence (AI)\".*</font>\n",
    "\n",
    "### Create a Face API Service\n",
    "To provision a Computer Vision API service in your Azure subscription, Follow these steps:\n",
    "\n",
    "1. Open another browser tab and navigate to https://portal.azure.com.\n",
    "2. Sign in using your Microsoft account.\n",
    "3. Click **+ New**, and in the **AI + Cognitive Services** category, click **See all**.\n",
    "4. In the list of cognitive services, click **Face**.\n",
    "5. In the **Face** blade, click **Create**.\n",
    "6. In the **Create** blade, enter the following details, and then click **Create**\n",
    "  * **Name**: A unique name for your service.\n",
    "  * **Subscription**: Your Azure subscription.\n",
    "  * **Location**: Choose the Azure datacenter location where you want to host your service.\n",
    "  * **Pricing tier**: Choose the F0 pricing tier.\n",
    "  * **Resource Group**: Choose the existing resource group you created in the previous lab (or create a new one if you didn't complete the previous lab)\n",
    "  * Read the notice about the use of your data, and select the checkbox.\n",
    "7. Wait for the service to be created.\n",
    "8. When deployment is complete, click **All Resources** and then click your Face service to open its blade.\n",
    "9. <font color='red'> In the blade for your Face service, copy the *full* **Endpoint** URL and paste it into **faceEndpoint** variable.</font>\n",
    "10. In the blade for your Face service, click **Keys** and then copy **Key 1** to the clipboard and paste it into the **faceKey** variable assignment value in the cell below. \n",
    "11. Run the cell below to assign the variables."
   ]
  },
  {
   "cell_type": "code",
   "execution_count": 2,
   "metadata": {},
   "outputs": [],
   "source": [
    "faceEndpoint = ''\n",
    "faceKey = ''"
   ]
  },
  {
   "cell_type": "markdown",
   "metadata": {},
   "source": [
    "### Once provided credentials they can be deleted from notebook after running below block.\n",
    "Below block either dumps credentials to pickle file or load them from it."
   ]
  },
  {
   "cell_type": "code",
   "execution_count": 3,
   "metadata": {},
   "outputs": [
    {
     "name": "stdout",
     "output_type": "stream",
     "text": [
      "Credentials loaded from pickle\n"
     ]
    }
   ],
   "source": [
    "if not os.path.isdir(\"pickles\"):\n",
    "     os.mkdir(\"pickles\")\n",
    "           \n",
    "        \n",
    "if os.path.isfile(\"pickles/faceKey.pkl\"):\n",
    "    \n",
    "    with open('pickles/faceEndpoint.pkl', 'rb') as f:\n",
    "        faceEndpoint = pickle.load(f)\n",
    "    with open('pickles/faceKey.pkl', 'rb') as f:\n",
    "        faceKey = pickle.load(f)\n",
    "    print(\"Credentials loaded from pickle\")\n",
    "    \n",
    "else:\n",
    "    \n",
    "    if faceKey is None or faceKey == \"\":\n",
    "        print(\"No faceKey provided! Service currently not available\")\n",
    "    else:\n",
    "        with open('pickles/faceEndpoint.pkl', 'wb') as f:\n",
    "            pickle.dump(faceEndpoint, f)\n",
    "        with open('pickles/faceKey.pkl', 'wb') as f:\n",
    "            pickle.dump(faceKey, f)\n",
    "            \n",
    "        print(\"Credentials written as pickle\")"
   ]
  },
  {
   "cell_type": "markdown",
   "metadata": {},
   "source": [
    "## Authenticate client\n",
    "Using provided `faceEndpoint` and `faceKey` as in following guide: https://docs.microsoft.com/pl-pl/azure/cognitive-services/face/quickstarts/python-sdk#authenticate-the-client"
   ]
  },
  {
   "cell_type": "code",
   "execution_count": 4,
   "metadata": {},
   "outputs": [],
   "source": [
    "face_client = FaceClient(faceEndpoint, CognitiveServicesCredentials(faceKey))"
   ]
  },
  {
   "cell_type": "markdown",
   "metadata": {},
   "source": [
    "# 1. Define needed functions"
   ]
  },
  {
   "cell_type": "markdown",
   "metadata": {},
   "source": [
    "### Function to <u>only display</u> detected faces on image they come from"
   ]
  },
  {
   "cell_type": "code",
   "execution_count": 5,
   "metadata": {},
   "outputs": [],
   "source": [
    "def mark_faces(img_, result):\n",
    "    img = img_.copy()\n",
    "    # Add rectangles for each face found\n",
    "    color=\"blue\"\n",
    "    if result is not None:\n",
    "        draw = ImageDraw.Draw(img) \n",
    "        for currFace in result:\n",
    "            faceRectangle = currFace.face_rectangle\n",
    "            left = faceRectangle.left\n",
    "            top = faceRectangle.top\n",
    "            width = faceRectangle.width\n",
    "            height = faceRectangle.height\n",
    "            draw.line([(left,top),(left+width,top)],fill=color, width=5)\n",
    "            draw.line([(left+width,top),(left+width,top+height)],fill=color , width=5)\n",
    "            draw.line([(left+width,top+height),(left, top+height)],fill=color , width=5)\n",
    "            draw.line([(left,top+height),(left, top)],fill=color , width=5)\n",
    "\n",
    "    # show the image\n",
    "    plt.figure(figsize=(6,6))\n",
    "    plt.imshow(img)"
   ]
  },
  {
   "cell_type": "markdown",
   "metadata": {},
   "source": [
    "### API function to <u>return</u> detected faces in <u>row format</u>, from an image provided using its <u>url</u>"
   ]
  },
  {
   "cell_type": "code",
   "execution_count": 6,
   "metadata": {},
   "outputs": [],
   "source": [
    "def detect_faces_url(img_url):\n",
    "    \n",
    "    # Detect faces\n",
    "    result = face_client.face.detect_with_url(img_url)\n",
    "    \n",
    "    # Download the image\n",
    "    response = requests.get(img_url)\n",
    "    img = Image.open(BytesIO(response.content))\n",
    "    \n",
    "    # Draw rectangle around found faces\n",
    "    #mark_faces(img, result)\n",
    "    \n",
    "    return {\"result\" : result, \"img\" : img}"
   ]
  },
  {
   "cell_type": "markdown",
   "metadata": {},
   "source": [
    "### API function to <u>return</u> detected faces in <u>row format</u>, from an image <u>stored locally</u>"
   ]
  },
  {
   "cell_type": "code",
   "execution_count": 7,
   "metadata": {},
   "outputs": [],
   "source": [
    "def detect_faces_local(img_source):\n",
    "    \n",
    "    # Read image\n",
    "    img = Image.open(img_source)\n",
    "         \n",
    "    # Detect faces\n",
    "    result = face_client.face.detect_with_stream(open(img_source, 'r+b'))\n",
    "    \n",
    "    # Draw rectangle around found faces\n",
    "    #mark_faces(img, result)\n",
    "    \n",
    "    return {\"result\" : result, \"img\" : img}"
   ]
  },
  {
   "cell_type": "markdown",
   "metadata": {},
   "source": [
    "### Function to crop faces from chosen images\n",
    "Returns firstly list of face-images in PILLOW format and secondly list of faces ID (ID's are stored on Microsoft Service for 24 hours and are later used to compare faces)."
   ]
  },
  {
   "cell_type": "code",
   "execution_count": 8,
   "metadata": {},
   "outputs": [],
   "source": [
    "def crop_faces(list_):\n",
    "\n",
    "    face_image_list = []\n",
    "    face_id_list = []\n",
    "    \n",
    "    for result in list_:\n",
    "        for face in result['result']:\n",
    "\n",
    "            face_id_list.append(face.face_id)\n",
    "            \n",
    "            rectangle = face.face_rectangle\n",
    "            left = rectangle.left\n",
    "            top = rectangle.top\n",
    "            right = rectangle.left + rectangle.width\n",
    "            bottom = rectangle.top + rectangle.height\n",
    "\n",
    "            face_image_list.append(result['img'].crop((left, top, right, bottom)).resize((100,100)))\n",
    "\n",
    "    # Display cropped faces horizontally \n",
    "    fig = plt.figure()#figsize=(1,1))\n",
    "    for i in range(len(face_image_list)):\n",
    "        fig.add_subplot(1, len(face_image_list), i+1)\n",
    "        plt.imshow(face_image_list[i])\n",
    "        plt.axis('off')\n",
    "    plt.show()\n",
    "        \n",
    "    # Return 2 lists\n",
    "    return {\"image_list\" : face_image_list, \"id_list\" : face_id_list}"
   ]
  },
  {
   "cell_type": "markdown",
   "metadata": {},
   "source": [
    "### Function to create a correlation matrix between images\n",
    "A single element tells the `confidence level` for images from corresponding row and column, if they belong to the same person.\n",
    "\n",
    "**This step is resourse consuming!**"
   ]
  },
  {
   "cell_type": "code",
   "execution_count": 9,
   "metadata": {},
   "outputs": [],
   "source": [
    "def calculate_matrix(faces):\n",
    "    \n",
    "    corr_ = np.zeros((len(faces), len(faces)))\n",
    "\n",
    "    for i in range(len(faces)):\n",
    "        for j in range(len(faces)):\n",
    "            corr_[i][j] = face_client.face.verify_face_to_face(faces[i], faces[j]).confidence\n",
    "            #sleep(1)\"\n",
    "    return corr_"
   ]
  },
  {
   "cell_type": "markdown",
   "metadata": {},
   "source": [
    "### Function to return correlation matrix in html format"
   ]
  },
  {
   "cell_type": "code",
   "execution_count": 10,
   "metadata": {},
   "outputs": [],
   "source": [
    "# Help function to convert from links to html tags\n",
    "def path_to_image_html(path):\n",
    "    return '<img src=\"'+ path + '\" width=\"60\" >'\n",
    "\n",
    "\n",
    "def display_matrix(corr, cropped):\n",
    "    \n",
    "    corr2 = pd.DataFrame(corr.copy())\n",
    "    \n",
    "    if not os.path.isdir(\"cropped\"):\n",
    "        os.mkdir(\"cropped\")\n",
    "\n",
    "    # Save cropped faces locally as images\n",
    "    links_list = []\n",
    "    for image, id_ in zip(cropped['image_list'], cropped['id_list']): \n",
    "        link = \"cropped/{}.jpg\".format(id_)\n",
    "        image.save(link, \"JPEG\")\n",
    "        links_list.append(path_to_image_html(link))\n",
    "\n",
    "    \n",
    "    # Put images with html tags as indexes and columns\n",
    "    corr2.index = links_list\n",
    "    corr2.columns = links_list\n",
    "\n",
    "    # Display matrix as html-formatted pandas DataFrame\n",
    "    pd.set_option('display.max_colwidth', -1)\n",
    "    return HTML(corr2.to_html(escape=False))"
   ]
  },
  {
   "cell_type": "markdown",
   "metadata": {},
   "source": [
    "# Final function that combines everything\n",
    "\n",
    "Extract faces from all images in a specified directory and return their correlation matrix in readible format"
   ]
  },
  {
   "cell_type": "code",
   "execution_count": 11,
   "metadata": {},
   "outputs": [],
   "source": [
    "def process_directory(directory):\n",
    "\n",
    "    print(\"Extracting faces...\")\n",
    "    # Proccess every single image in provided folder\n",
    "    results = []\n",
    "    for file in os.listdir(directory):\n",
    "        results.append(detect_faces_local(directory + \"/\" + file))\n",
    "    \n",
    "    # Cropp all detected faces\n",
    "    cropped = crop_faces(results)\n",
    "    \n",
    "    print(\"Calculating matrix...\")\n",
    "    corr = calculate_matrix(cropped['id_list'])\n",
    "    \n",
    "    print(\"Matrix ready to display!\")\n",
    "    return display_matrix(corr, cropped)"
   ]
  },
  {
   "cell_type": "markdown",
   "metadata": {},
   "source": [
    "# 2. Process images"
   ]
  },
  {
   "cell_type": "code",
   "execution_count": 14,
   "metadata": {},
   "outputs": [
    {
     "name": "stdout",
     "output_type": "stream",
     "text": [
      "Extracting faces...\n"
     ]
    },
    {
     "data": {
      "image/png": "[encoded data removed]",
      "text/plain": [
       "<Figure size 432x288 with 10 Axes>"
      ]
     },
     "metadata": {
      "needs_background": "light"
     },
     "output_type": "display_data"
    },
    {
     "name": "stdout",
     "output_type": "stream",
     "text": [
      "Calculating matrix...\n",
      "Matrix ready to display!\n"
     ]
    },
    {
     "data": {
      "text/html": [
       "<table border=\"1\" class=\"dataframe\">\n",
       "  <thead>\n",
       "    <tr style=\"text-align: right;\">\n",
       "      <th></th>\n",
       "      <th><img src=\"cropped/da603104-0a87-4657-81ed-4cd0b53c31fc.jpg\" width=\"60\" ></th>\n",
       "      <th><img src=\"cropped/ab417913-ed20-4379-9b88-f605fc5027e2.jpg\" width=\"60\" ></th>\n",
       "      <th><img src=\"cropped/1e31b608-f858-40e5-b9a1-85531c61fc72.jpg\" width=\"60\" ></th>\n",
       "      <th><img src=\"cropped/d02b4808-1f8d-4f82-a46d-9bdb70081a77.jpg\" width=\"60\" ></th>\n",
       "      <th><img src=\"cropped/f1f15c31-dc89-4708-955a-d61aad661208.jpg\" width=\"60\" ></th>\n",
       "      <th><img src=\"cropped/6fbf54a8-0319-4d00-b866-055ab88241e9.jpg\" width=\"60\" ></th>\n",
       "      <th><img src=\"cropped/3a21dd06-3ac4-4131-8917-881b26c4e51c.jpg\" width=\"60\" ></th>\n",
       "      <th><img src=\"cropped/fefccf52-af6c-486d-ae30-30bf435dc0fd.jpg\" width=\"60\" ></th>\n",
       "      <th><img src=\"cropped/5badcc34-c849-4def-9b01-5dbff58a16c8.jpg\" width=\"60\" ></th>\n",
       "      <th><img src=\"cropped/da6df557-f490-42b1-ad21-91d799ff09d7.jpg\" width=\"60\" ></th>\n",
       "    </tr>\n",
       "  </thead>\n",
       "  <tbody>\n",
       "    <tr>\n",
       "      <th><img src=\"cropped/da603104-0a87-4657-81ed-4cd0b53c31fc.jpg\" width=\"60\" ></th>\n",
       "      <td>1.00000</td>\n",
       "      <td>0.08311</td>\n",
       "      <td>0.14063</td>\n",
       "      <td>0.08965</td>\n",
       "      <td>0.13866</td>\n",
       "      <td>0.19264</td>\n",
       "      <td>0.21365</td>\n",
       "      <td>0.18313</td>\n",
       "      <td>0.09042</td>\n",
       "      <td>0.09955</td>\n",
       "    </tr>\n",
       "    <tr>\n",
       "      <th><img src=\"cropped/ab417913-ed20-4379-9b88-f605fc5027e2.jpg\" width=\"60\" ></th>\n",
       "      <td>0.08311</td>\n",
       "      <td>1.00000</td>\n",
       "      <td>0.09467</td>\n",
       "      <td>0.09942</td>\n",
       "      <td>0.09906</td>\n",
       "      <td>0.08878</td>\n",
       "      <td>0.09597</td>\n",
       "      <td>0.08938</td>\n",
       "      <td>0.42280</td>\n",
       "      <td>0.09681</td>\n",
       "    </tr>\n",
       "    <tr>\n",
       "      <th><img src=\"cropped/1e31b608-f858-40e5-b9a1-85531c61fc72.jpg\" width=\"60\" ></th>\n",
       "      <td>0.14063</td>\n",
       "      <td>0.09467</td>\n",
       "      <td>1.00000</td>\n",
       "      <td>0.13801</td>\n",
       "      <td>0.16290</td>\n",
       "      <td>0.10303</td>\n",
       "      <td>0.48605</td>\n",
       "      <td>0.09157</td>\n",
       "      <td>0.09161</td>\n",
       "      <td>0.09624</td>\n",
       "    </tr>\n",
       "    <tr>\n",
       "      <th><img src=\"cropped/d02b4808-1f8d-4f82-a46d-9bdb70081a77.jpg\" width=\"60\" ></th>\n",
       "      <td>0.08965</td>\n",
       "      <td>0.09942</td>\n",
       "      <td>0.13801</td>\n",
       "      <td>1.00000</td>\n",
       "      <td>0.25871</td>\n",
       "      <td>0.20915</td>\n",
       "      <td>0.09193</td>\n",
       "      <td>0.09348</td>\n",
       "      <td>0.08526</td>\n",
       "      <td>0.11766</td>\n",
       "    </tr>\n",
       "    <tr>\n",
       "      <th><img src=\"cropped/f1f15c31-dc89-4708-955a-d61aad661208.jpg\" width=\"60\" ></th>\n",
       "      <td>0.13866</td>\n",
       "      <td>0.09906</td>\n",
       "      <td>0.16290</td>\n",
       "      <td>0.25871</td>\n",
       "      <td>1.00000</td>\n",
       "      <td>0.09375</td>\n",
       "      <td>0.10110</td>\n",
       "      <td>0.09031</td>\n",
       "      <td>0.08872</td>\n",
       "      <td>0.09651</td>\n",
       "    </tr>\n",
       "    <tr>\n",
       "      <th><img src=\"cropped/6fbf54a8-0319-4d00-b866-055ab88241e9.jpg\" width=\"60\" ></th>\n",
       "      <td>0.19264</td>\n",
       "      <td>0.08878</td>\n",
       "      <td>0.10303</td>\n",
       "      <td>0.20915</td>\n",
       "      <td>0.09375</td>\n",
       "      <td>1.00000</td>\n",
       "      <td>0.13309</td>\n",
       "      <td>0.37305</td>\n",
       "      <td>0.08242</td>\n",
       "      <td>0.32726</td>\n",
       "    </tr>\n",
       "    <tr>\n",
       "      <th><img src=\"cropped/3a21dd06-3ac4-4131-8917-881b26c4e51c.jpg\" width=\"60\" ></th>\n",
       "      <td>0.21365</td>\n",
       "      <td>0.09597</td>\n",
       "      <td>0.48605</td>\n",
       "      <td>0.09193</td>\n",
       "      <td>0.10110</td>\n",
       "      <td>0.13309</td>\n",
       "      <td>1.00000</td>\n",
       "      <td>0.15306</td>\n",
       "      <td>0.09443</td>\n",
       "      <td>0.09724</td>\n",
       "    </tr>\n",
       "    <tr>\n",
       "      <th><img src=\"cropped/fefccf52-af6c-486d-ae30-30bf435dc0fd.jpg\" width=\"60\" ></th>\n",
       "      <td>0.18313</td>\n",
       "      <td>0.08938</td>\n",
       "      <td>0.09157</td>\n",
       "      <td>0.09348</td>\n",
       "      <td>0.09031</td>\n",
       "      <td>0.37305</td>\n",
       "      <td>0.15306</td>\n",
       "      <td>1.00000</td>\n",
       "      <td>0.08264</td>\n",
       "      <td>0.22054</td>\n",
       "    </tr>\n",
       "    <tr>\n",
       "      <th><img src=\"cropped/5badcc34-c849-4def-9b01-5dbff58a16c8.jpg\" width=\"60\" ></th>\n",
       "      <td>0.09042</td>\n",
       "      <td>0.42280</td>\n",
       "      <td>0.09161</td>\n",
       "      <td>0.08526</td>\n",
       "      <td>0.08872</td>\n",
       "      <td>0.08242</td>\n",
       "      <td>0.09443</td>\n",
       "      <td>0.08264</td>\n",
       "      <td>1.00000</td>\n",
       "      <td>0.09140</td>\n",
       "    </tr>\n",
       "    <tr>\n",
       "      <th><img src=\"cropped/da6df557-f490-42b1-ad21-91d799ff09d7.jpg\" width=\"60\" ></th>\n",
       "      <td>0.09955</td>\n",
       "      <td>0.09681</td>\n",
       "      <td>0.09624</td>\n",
       "      <td>0.11766</td>\n",
       "      <td>0.09651</td>\n",
       "      <td>0.32726</td>\n",
       "      <td>0.09724</td>\n",
       "      <td>0.22054</td>\n",
       "      <td>0.09140</td>\n",
       "      <td>1.00000</td>\n",
       "    </tr>\n",
       "  </tbody>\n",
       "</table>"
      ],
      "text/plain": [
       "<IPython.core.display.HTML object>"
      ]
     },
     "execution_count": 14,
     "metadata": {},
     "output_type": "execute_result"
    }
   ],
   "source": [
    "matrix = process_directory('images')\n",
    "matrix"
   ]
  },
  {
   "cell_type": "code",
   "execution_count": null,
   "metadata": {},
   "outputs": [],
   "source": []
  }
 ],
 "metadata": {
  "kernelspec": {
   "display_name": "Python 3",
   "language": "python",
   "name": "python3"
  },
  "language_info": {
   "codemirror_mode": {
    "name": "ipython",
    "version": 3
   },
   "file_extension": ".py",
   "mimetype": "text/x-python",
   "name": "python",
   "nbconvert_exporter": "python",
   "pygments_lexer": "ipython3",
   "version": "3.6.9"
  }
 },
 "nbformat": 4,
 "nbformat_minor": 2
}
