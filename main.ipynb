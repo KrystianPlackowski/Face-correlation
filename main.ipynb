{
 "cells": [
  {
   "cell_type": "markdown",
   "metadata": {},
   "source": [
    "## Import libraries"
   ]
  },
  {
   "cell_type": "code",
   "execution_count": 1,
   "metadata": {},
   "outputs": [],
   "source": [
    "%matplotlib inline\n",
    "import os\n",
    "import pickle\n",
    "import numpy as np\n",
    "import pandas as pd\n",
    "import matplotlib.pyplot as plt\n",
    "from time import sleep\n",
    "from PIL import Image, ImageDraw\n",
    "from IPython.core.display import HTML\n",
    "\n",
    "from azure.cognitiveservices.vision.face import FaceClient\n",
    "from msrest.authentication import CognitiveServicesCredentials"
   ]
  },
  {
   "cell_type": "markdown",
   "metadata": {},
   "source": [
    "### Provide valid API credentials"
   ]
  },
  {
   "cell_type": "code",
   "execution_count": 2,
   "metadata": {},
   "outputs": [],
   "source": [
    "faceEndpoint = ''\n",
    "faceKey = ''"
   ]
  },
  {
   "cell_type": "markdown",
   "metadata": {},
   "source": [
    "### Once provided credentials can be deleted from notebook after running below block.\n",
    "Below block either dumps credentials to pickle file or load them from it."
   ]
  },
  {
   "cell_type": "code",
   "execution_count": 3,
   "metadata": {},
   "outputs": [
    {
     "name": "stdout",
     "output_type": "stream",
     "text": [
      "Credentials loaded from pickle\n"
     ]
    }
   ],
   "source": [
    "if not os.path.isdir(\"pickles\"):\n",
    "     os.mkdir(\"pickles\")\n",
    "           \n",
    "        \n",
    "if os.path.isfile(\"pickles/faceKey.pkl\"):\n",
    "    \n",
    "    with open('pickles/faceEndpoint.pkl', 'rb') as f:\n",
    "        faceEndpoint = pickle.load(f)\n",
    "    with open('pickles/faceKey.pkl', 'rb') as f:\n",
    "        faceKey = pickle.load(f)\n",
    "    print(\"Credentials loaded from pickle\")\n",
    "    \n",
    "else:\n",
    "    \n",
    "    if faceKey is None or faceKey == \"\":\n",
    "        print(\"No faceKey provided! Service currently not available\")\n",
    "    else:\n",
    "        with open('pickles/faceEndpoint.pkl', 'wb') as f:\n",
    "            pickle.dump(faceEndpoint, f)\n",
    "        with open('pickles/faceKey.pkl', 'wb') as f:\n",
    "            pickle.dump(faceKey, f)\n",
    "            \n",
    "        print(\"Credentials written as pickle\")"
   ]
  },
  {
   "cell_type": "markdown",
   "metadata": {},
   "source": [
    "## Authenticate client\n",
    "Using provided `faceEndpoint` and `faceKey` as in following guide: https://docs.microsoft.com/pl-pl/azure/cognitive-services/face/quickstarts/python-sdk#authenticate-the-client"
   ]
  },
  {
   "cell_type": "code",
   "execution_count": 4,
   "metadata": {},
   "outputs": [],
   "source": [
    "face_client = FaceClient(faceEndpoint, CognitiveServicesCredentials(faceKey))"
   ]
  },
  {
   "cell_type": "markdown",
   "metadata": {},
   "source": [
    "# 1. Define needed functions"
   ]
  },
  {
   "cell_type": "markdown",
   "metadata": {},
   "source": [
    "### Function to <u>only display</u> detected faces on image they come from"
   ]
  },
  {
   "cell_type": "code",
   "execution_count": 5,
   "metadata": {},
   "outputs": [],
   "source": [
    "def mark_faces(img_, result):\n",
    "    img = img_.copy()\n",
    "    # Add rectangles for each face found\n",
    "    color=\"blue\"\n",
    "    if result is not None:\n",
    "        draw = ImageDraw.Draw(img) \n",
    "        for currFace in result:\n",
    "            faceRectangle = currFace.face_rectangle\n",
    "            left = faceRectangle.left\n",
    "            top = faceRectangle.top\n",
    "            width = faceRectangle.width\n",
    "            height = faceRectangle.height\n",
    "            draw.line([(left,top),(left+width,top)],fill=color, width=5)\n",
    "            draw.line([(left+width,top),(left+width,top+height)],fill=color , width=5)\n",
    "            draw.line([(left+width,top+height),(left, top+height)],fill=color , width=5)\n",
    "            draw.line([(left,top+height),(left, top)],fill=color , width=5)\n",
    "\n",
    "    # show the image\n",
    "    plt.figure(figsize=(6,6))\n",
    "    plt.imshow(img)"
   ]
  },
  {
   "cell_type": "markdown",
   "metadata": {},
   "source": [
    "### API function to <u>return</u> detected faces in <u>row format</u>, from an image provided using its <u>url</u>"
   ]
  },
  {
   "cell_type": "code",
   "execution_count": 6,
   "metadata": {},
   "outputs": [],
   "source": [
    "def detect_faces_url(img_url):\n",
    "    \n",
    "    # Detect faces\n",
    "    result = face_client.face.detect_with_url(img_url)\n",
    "    \n",
    "    # Download the image\n",
    "    response = requests.get(img_url)\n",
    "    img = Image.open(BytesIO(response.content))\n",
    "    \n",
    "    # Draw rectangle around found faces\n",
    "    #mark_faces(img, result)\n",
    "    \n",
    "    return {\"result\" : result, \"img\" : img}"
   ]
  },
  {
   "cell_type": "markdown",
   "metadata": {},
   "source": [
    "### API function to <u>return</u> detected faces in <u>row format</u>, from an image <u>stored locally</u>"
   ]
  },
  {
   "cell_type": "code",
   "execution_count": 58,
   "metadata": {},
   "outputs": [],
   "source": [
    "def detect_faces_local(img_source):\n",
    "    \n",
    "    # Read image\n",
    "    img = Image.open(img_source)\n",
    "         \n",
    "    # Detect faces\n",
    "    # Notice that \"detection_02\" model is cappable to detect faces more often, where \"detection_01\" fails\n",
    "    result = face_client.face.detect_with_stream(open(img_source, 'r+b'), detection_model=\"detection_02\")\n",
    "    \n",
    "    # Draw rectangle around found faces\n",
    "    #mark_faces(img, result)\n",
    "    \n",
    "    return {\"result\" : result, \"img\" : img}"
   ]
  },
  {
   "cell_type": "markdown",
   "metadata": {},
   "source": [
    "### Function to crop faces from chosen images\n",
    "Returns firstly list of face-images in PILLOW format and secondly list of faces ID (ID's are stored on Microsoft Service for 24 hours and are later used to compare faces)."
   ]
  },
  {
   "cell_type": "code",
   "execution_count": 122,
   "metadata": {},
   "outputs": [],
   "source": [
    "# Help function to resize an image to size 100x100 maintaining ratio\n",
    "def make_square(im, size=100, fill_color=(255, 255, 255, 0)):\n",
    "    \n",
    "    x, y = im.size\n",
    "    if x > y:\n",
    "        x, y = size, int(size*y/x)\n",
    "    else:\n",
    "        x, y = int(size*x/y), size\n",
    "    \n",
    "    im = im.resize((x, y))\n",
    "    new_im = Image.new('RGB', (size, size), fill_color)\n",
    "    new_im.paste(im, (int((size - x) / 2), int((size - y) / 2)))\n",
    "    return new_im\n",
    "\n",
    "\n",
    "def crop_faces(list_):\n",
    "\n",
    "    face_image_list = []\n",
    "    face_id_list = []\n",
    "    \n",
    "    for result in list_:\n",
    "        for face in result['result']:\n",
    "\n",
    "            face_id_list.append(face.face_id)\n",
    "            \n",
    "            rectangle = face.face_rectangle\n",
    "            left = rectangle.left\n",
    "            top = rectangle.top\n",
    "            right = rectangle.left + rectangle.width\n",
    "            bottom = rectangle.top + rectangle.height\n",
    "\n",
    "            face_image_list.append(make_square(result['img'].crop((left, top, right, bottom))))\n",
    "\n",
    "    # Display cropped faces horizontally \n",
    "    fig = plt.figure()\n",
    "    for i in range(len(face_image_list)):\n",
    "        fig.add_subplot(1, len(face_image_list), i+1)\n",
    "        plt.imshow(face_image_list[i])\n",
    "        plt.axis('off')\n",
    "    plt.show()\n",
    "        \n",
    "    # Return 2 lists\n",
    "    return {\"image_list\" : face_image_list, \"id_list\" : face_id_list}"
   ]
  },
  {
   "cell_type": "markdown",
   "metadata": {},
   "source": [
    "### Function to create a correlation matrix between images\n",
    "A single element tells the `confidence level` for images from corresponding row and column, if they belong to the same person.\n",
    "\n",
    "**This step is resourse consuming!**"
   ]
  },
  {
   "cell_type": "code",
   "execution_count": 9,
   "metadata": {},
   "outputs": [],
   "source": [
    "def calculate_matrix(faces):\n",
    "    \n",
    "    corr_ = np.zeros((len(faces), len(faces)))\n",
    "\n",
    "    for i in range(len(faces)):\n",
    "        for j in range(len(faces)):\n",
    "            corr_[i][j] = face_client.face.verify_face_to_face(faces[i], faces[j]).confidence\n",
    "            #sleep(1)\"\n",
    "    return corr_"
   ]
  },
  {
   "cell_type": "markdown",
   "metadata": {},
   "source": [
    "### Function to return correlation matrix in html format"
   ]
  },
  {
   "cell_type": "code",
   "execution_count": 10,
   "metadata": {},
   "outputs": [],
   "source": [
    "# Help function to convert from links to html tags\n",
    "def path_to_image_html(path):\n",
    "    return '<img src=\"'+ path + '\" width=\"60\" >'\n",
    "\n",
    "\n",
    "def display_matrix(corr, cropped):\n",
    "    \n",
    "    corr2 = pd.DataFrame(corr.copy())\n",
    "    \n",
    "    if not os.path.isdir(\"cropped\"):\n",
    "        os.mkdir(\"cropped\")\n",
    "\n",
    "    # Save cropped faces locally as images\n",
    "    links_list = []\n",
    "    for image, id_ in zip(cropped['image_list'], cropped['id_list']): \n",
    "        link = \"cropped/{}.jpg\".format(id_)\n",
    "        image.save(link, \"JPEG\")\n",
    "        links_list.append(path_to_image_html(link))\n",
    "\n",
    "    \n",
    "    # Put images with html tags as indexes and columns\n",
    "    corr2.index = links_list\n",
    "    corr2.columns = links_list\n",
    "\n",
    "    # Display matrix as html-formatted pandas DataFrame\n",
    "    pd.set_option('display.max_colwidth', -1)\n",
    "    return HTML(corr2.to_html(escape=False))"
   ]
  },
  {
   "cell_type": "markdown",
   "metadata": {},
   "source": [
    "# Final function that combines everything\n",
    "\n",
    "Extract faces from all images in a specified directory and return their correlation matrix in readible format"
   ]
  },
  {
   "cell_type": "code",
   "execution_count": 42,
   "metadata": {},
   "outputs": [],
   "source": [
    "def process_directory(directory):\n",
    "\n",
    "    print(\"Extracting faces...\")\n",
    "    # Proccess every single image in provided folder\n",
    "    results = []\n",
    "    for file in os.listdir(directory):\n",
    "        results.append(detect_faces_local(directory + \"/\" + file))\n",
    "    \n",
    "    # Cropp all detected faces\n",
    "    cropped = crop_faces(results)\n",
    "    \n",
    "    print(\"Calculating matrix...\")\n",
    "    corr = calculate_matrix(cropped['id_list'])\n",
    "    \n",
    "    print(\"Matrix ready to display!\")\n",
    "    return display_matrix(corr, cropped)"
   ]
  },
  {
   "cell_type": "markdown",
   "metadata": {},
   "source": [
    "# 2. Process images"
   ]
  },
  {
   "cell_type": "code",
   "execution_count": 128,
   "metadata": {},
   "outputs": [
    {
     "name": "stdout",
     "output_type": "stream",
     "text": [
      "Extracting faces...\n"
     ]
    },
    {
     "data": {
      "image/png": "[encoded data removed]",
      "text/plain": [
       "<Figure size 432x288 with 8 Axes>"
      ]
     },
     "metadata": {
      "needs_background": "light"
     },
     "output_type": "display_data"
    },
    {
     "name": "stdout",
     "output_type": "stream",
     "text": [
      "Calculating matrix...\n",
      "Matrix ready to display!\n"
     ]
    },
    {
     "data": {
      "text/html": [
       "<table border=\"1\" class=\"dataframe\">\n",
       "  <thead>\n",
       "    <tr style=\"text-align: right;\">\n",
       "      <th></th>\n",
       "      <th><img src=\"cropped/1279f7de-0c51-46e2-82d8-df898cc96665.jpg\" width=\"60\" ></th>\n",
       "      <th><img src=\"cropped/895f0713-8f9d-42dd-9250-cd32e1dba471.jpg\" width=\"60\" ></th>\n",
       "      <th><img src=\"cropped/aa5004fc-336e-472b-b1ae-32787f5096fc.jpg\" width=\"60\" ></th>\n",
       "      <th><img src=\"cropped/2ea4119b-ba97-4dd7-8db2-bbabc2d21cf1.jpg\" width=\"60\" ></th>\n",
       "      <th><img src=\"cropped/d72fca20-498e-4625-8db6-a75b778c98a7.jpg\" width=\"60\" ></th>\n",
       "      <th><img src=\"cropped/d715f66d-e627-42dd-84b6-42ebffc911f2.jpg\" width=\"60\" ></th>\n",
       "      <th><img src=\"cropped/93565db4-f38f-4278-b41c-594fa94081a4.jpg\" width=\"60\" ></th>\n",
       "      <th><img src=\"cropped/c366ac60-62e4-4038-8460-0d86069ee715.jpg\" width=\"60\" ></th>\n",
       "    </tr>\n",
       "  </thead>\n",
       "  <tbody>\n",
       "    <tr>\n",
       "      <th><img src=\"cropped/1279f7de-0c51-46e2-82d8-df898cc96665.jpg\" width=\"60\" ></th>\n",
       "      <td>1.00000</td>\n",
       "      <td>0.32474</td>\n",
       "      <td>0.09110</td>\n",
       "      <td>0.09027</td>\n",
       "      <td>0.17458</td>\n",
       "      <td>0.20875</td>\n",
       "      <td>0.13955</td>\n",
       "      <td>0.09437</td>\n",
       "    </tr>\n",
       "    <tr>\n",
       "      <th><img src=\"cropped/895f0713-8f9d-42dd-9250-cd32e1dba471.jpg\" width=\"60\" ></th>\n",
       "      <td>0.32474</td>\n",
       "      <td>1.00000</td>\n",
       "      <td>0.09982</td>\n",
       "      <td>0.19058</td>\n",
       "      <td>0.22237</td>\n",
       "      <td>0.38372</td>\n",
       "      <td>0.08984</td>\n",
       "      <td>0.09126</td>\n",
       "    </tr>\n",
       "    <tr>\n",
       "      <th><img src=\"cropped/aa5004fc-336e-472b-b1ae-32787f5096fc.jpg\" width=\"60\" ></th>\n",
       "      <td>0.09110</td>\n",
       "      <td>0.09982</td>\n",
       "      <td>1.00000</td>\n",
       "      <td>0.23863</td>\n",
       "      <td>0.08716</td>\n",
       "      <td>0.11907</td>\n",
       "      <td>0.08884</td>\n",
       "      <td>0.15828</td>\n",
       "    </tr>\n",
       "    <tr>\n",
       "      <th><img src=\"cropped/2ea4119b-ba97-4dd7-8db2-bbabc2d21cf1.jpg\" width=\"60\" ></th>\n",
       "      <td>0.09027</td>\n",
       "      <td>0.19058</td>\n",
       "      <td>0.23863</td>\n",
       "      <td>1.00000</td>\n",
       "      <td>0.23743</td>\n",
       "      <td>0.09299</td>\n",
       "      <td>0.09565</td>\n",
       "      <td>0.17628</td>\n",
       "    </tr>\n",
       "    <tr>\n",
       "      <th><img src=\"cropped/d72fca20-498e-4625-8db6-a75b778c98a7.jpg\" width=\"60\" ></th>\n",
       "      <td>0.17458</td>\n",
       "      <td>0.22237</td>\n",
       "      <td>0.08716</td>\n",
       "      <td>0.23743</td>\n",
       "      <td>1.00000</td>\n",
       "      <td>0.11045</td>\n",
       "      <td>0.32506</td>\n",
       "      <td>0.29135</td>\n",
       "    </tr>\n",
       "    <tr>\n",
       "      <th><img src=\"cropped/d715f66d-e627-42dd-84b6-42ebffc911f2.jpg\" width=\"60\" ></th>\n",
       "      <td>0.20875</td>\n",
       "      <td>0.38372</td>\n",
       "      <td>0.11907</td>\n",
       "      <td>0.09299</td>\n",
       "      <td>0.11045</td>\n",
       "      <td>1.00000</td>\n",
       "      <td>0.19901</td>\n",
       "      <td>0.09321</td>\n",
       "    </tr>\n",
       "    <tr>\n",
       "      <th><img src=\"cropped/93565db4-f38f-4278-b41c-594fa94081a4.jpg\" width=\"60\" ></th>\n",
       "      <td>0.13955</td>\n",
       "      <td>0.08984</td>\n",
       "      <td>0.08884</td>\n",
       "      <td>0.09565</td>\n",
       "      <td>0.32506</td>\n",
       "      <td>0.19901</td>\n",
       "      <td>1.00000</td>\n",
       "      <td>0.20783</td>\n",
       "    </tr>\n",
       "    <tr>\n",
       "      <th><img src=\"cropped/c366ac60-62e4-4038-8460-0d86069ee715.jpg\" width=\"60\" ></th>\n",
       "      <td>0.09437</td>\n",
       "      <td>0.09126</td>\n",
       "      <td>0.15828</td>\n",
       "      <td>0.17628</td>\n",
       "      <td>0.29135</td>\n",
       "      <td>0.09321</td>\n",
       "      <td>0.20783</td>\n",
       "      <td>1.00000</td>\n",
       "    </tr>\n",
       "  </tbody>\n",
       "</table>"
      ],
      "text/plain": [
       "<IPython.core.display.HTML object>"
      ]
     },
     "execution_count": 128,
     "metadata": {},
     "output_type": "execute_result"
    }
   ],
   "source": [
    "matrix_1 = process_directory('images_1')\n",
    "matrix_1"
   ]
  },
  {
   "cell_type": "markdown",
   "metadata": {},
   "source": [
    "## Comment:\n",
    "- `Michael Del Santa` from GTA V may be created upon `Leanardo DiCaprio` (`32%` similarity)\n",
    "- `Michael Del Santa` presented in two different artworks is recognized well with `38%` similarity\n",
    "- `Brad Pitt` is recognized fairy with `~30%` similarity between his 3 photos from different movies and distinguished well from `Leonardo di Caprio` (`< 10%` similarity)"
   ]
  },
  {
   "cell_type": "code",
   "execution_count": 129,
   "metadata": {},
   "outputs": [
    {
     "name": "stdout",
     "output_type": "stream",
     "text": [
      "Extracting faces...\n"
     ]
    },
    {
     "data": {
      "image/png": "[encoded data removed]",
      "text/plain": [
       "<Figure size 432x288 with 6 Axes>"
      ]
     },
     "metadata": {
      "needs_background": "light"
     },
     "output_type": "display_data"
    },
    {
     "name": "stdout",
     "output_type": "stream",
     "text": [
      "Calculating matrix...\n",
      "Matrix ready to display!\n"
     ]
    },
    {
     "data": {
      "text/html": [
       "<table border=\"1\" class=\"dataframe\">\n",
       "  <thead>\n",
       "    <tr style=\"text-align: right;\">\n",
       "      <th></th>\n",
       "      <th><img src=\"cropped/4e60c169-cc94-40a0-b38a-7792942a2b06.jpg\" width=\"60\" ></th>\n",
       "      <th><img src=\"cropped/16646974-4f97-43c1-aa91-7d0353413634.jpg\" width=\"60\" ></th>\n",
       "      <th><img src=\"cropped/817a999c-f52b-4e98-b777-f9f1e3540fc2.jpg\" width=\"60\" ></th>\n",
       "      <th><img src=\"cropped/27014184-4b43-401b-8576-90ddbfdc9bac.jpg\" width=\"60\" ></th>\n",
       "      <th><img src=\"cropped/b36f528c-44a8-427a-b93e-29f16ef06f25.jpg\" width=\"60\" ></th>\n",
       "      <th><img src=\"cropped/0dfbdcf3-b414-4b82-8b25-5a1cf818ec0d.jpg\" width=\"60\" ></th>\n",
       "    </tr>\n",
       "  </thead>\n",
       "  <tbody>\n",
       "    <tr>\n",
       "      <th><img src=\"cropped/4e60c169-cc94-40a0-b38a-7792942a2b06.jpg\" width=\"60\" ></th>\n",
       "      <td>1.00000</td>\n",
       "      <td>0.09898</td>\n",
       "      <td>0.42247</td>\n",
       "      <td>0.18982</td>\n",
       "      <td>0.33872</td>\n",
       "      <td>0.23567</td>\n",
       "    </tr>\n",
       "    <tr>\n",
       "      <th><img src=\"cropped/16646974-4f97-43c1-aa91-7d0353413634.jpg\" width=\"60\" ></th>\n",
       "      <td>0.09898</td>\n",
       "      <td>1.00000</td>\n",
       "      <td>0.23435</td>\n",
       "      <td>0.47758</td>\n",
       "      <td>0.11399</td>\n",
       "      <td>0.11436</td>\n",
       "    </tr>\n",
       "    <tr>\n",
       "      <th><img src=\"cropped/817a999c-f52b-4e98-b777-f9f1e3540fc2.jpg\" width=\"60\" ></th>\n",
       "      <td>0.42247</td>\n",
       "      <td>0.23435</td>\n",
       "      <td>1.00000</td>\n",
       "      <td>0.30508</td>\n",
       "      <td>0.26460</td>\n",
       "      <td>0.31669</td>\n",
       "    </tr>\n",
       "    <tr>\n",
       "      <th><img src=\"cropped/27014184-4b43-401b-8576-90ddbfdc9bac.jpg\" width=\"60\" ></th>\n",
       "      <td>0.18982</td>\n",
       "      <td>0.47758</td>\n",
       "      <td>0.30508</td>\n",
       "      <td>1.00000</td>\n",
       "      <td>0.25017</td>\n",
       "      <td>0.21092</td>\n",
       "    </tr>\n",
       "    <tr>\n",
       "      <th><img src=\"cropped/b36f528c-44a8-427a-b93e-29f16ef06f25.jpg\" width=\"60\" ></th>\n",
       "      <td>0.33872</td>\n",
       "      <td>0.11399</td>\n",
       "      <td>0.26460</td>\n",
       "      <td>0.25017</td>\n",
       "      <td>1.00000</td>\n",
       "      <td>0.49012</td>\n",
       "    </tr>\n",
       "    <tr>\n",
       "      <th><img src=\"cropped/0dfbdcf3-b414-4b82-8b25-5a1cf818ec0d.jpg\" width=\"60\" ></th>\n",
       "      <td>0.23567</td>\n",
       "      <td>0.11436</td>\n",
       "      <td>0.31669</td>\n",
       "      <td>0.21092</td>\n",
       "      <td>0.49012</td>\n",
       "      <td>1.00000</td>\n",
       "    </tr>\n",
       "  </tbody>\n",
       "</table>"
      ],
      "text/plain": [
       "<IPython.core.display.HTML object>"
      ]
     },
     "execution_count": 129,
     "metadata": {},
     "output_type": "execute_result"
    }
   ],
   "source": [
    "matrix_2 = process_directory('images_2')\n",
    "matrix_2"
   ]
  },
  {
   "cell_type": "markdown",
   "metadata": {},
   "source": [
    "## Comment:\n",
    "- `Samara Weaving` and `Margot Robbie` are recognized as similar to eachother in `~30%` (which is a popular belief)\n",
    "- `Samara Weaving` is well recognized between her 2 photos from different movies (and time) with `42%` match\n",
    "- `Margot Robbie` is greatly recognized between her makeup and no-makeup photos with `49%` match\n",
    "- `Lele Pons` is greatly recognized between her 2 photos despite different pose (`48%` similarity) and both of her photos are found similar to one of `Samara's` photos (`23%` and `30%` similarity)"
   ]
  },
  {
   "cell_type": "code",
   "execution_count": null,
   "metadata": {},
   "outputs": [],
   "source": []
  }
 ],
 "metadata": {
  "kernelspec": {
   "display_name": "Python 3",
   "language": "python",
   "name": "python3"
  },
  "language_info": {
   "codemirror_mode": {
    "name": "ipython",
    "version": 3
   },
   "file_extension": ".py",
   "mimetype": "text/x-python",
   "name": "python",
   "nbconvert_exporter": "python",
   "pygments_lexer": "ipython3",
   "version": "3.6.9"
  }
 },
 "nbformat": 4,
 "nbformat_minor": 2
}
